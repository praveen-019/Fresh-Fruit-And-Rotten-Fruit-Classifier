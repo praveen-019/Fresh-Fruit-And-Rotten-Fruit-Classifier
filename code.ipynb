{
 "cells": [
  {
   "cell_type": "code",
   "execution_count": 14,
   "id": "5ab568ce-d1e6-4280-8020-07ecfbf81be1",
   "metadata": {},
   "outputs": [],
   "source": [
    "# custom model"
   ]
  },
  {
   "cell_type": "code",
   "execution_count": 15,
   "id": "ed568357-f0c9-4369-a49f-c8e461eca857",
   "metadata": {},
   "outputs": [],
   "source": [
    "# training"
   ]
  },
  {
   "cell_type": "code",
   "execution_count": 49,
   "id": "b9fc7231-ba14-48ce-bc5a-49b1f56806c9",
   "metadata": {},
   "outputs": [
    {
     "name": "stdout",
     "output_type": "stream",
     "text": [
      "Found 10901 files belonging to 6 classes.\n",
      "Using 8721 files for training.\n",
      "Found 10901 files belonging to 6 classes.\n",
      "Using 2180 files for validation.\n",
      "Epoch 1/20\n",
      "273/273 [==============================] - 210s 745ms/step - loss: 0.9346 - accuracy: 0.7128 - val_loss: 1.8015 - val_accuracy: 0.4028\n",
      "Epoch 2/20\n",
      "273/273 [==============================] - 184s 659ms/step - loss: 0.4733 - accuracy: 0.8371 - val_loss: 0.6398 - val_accuracy: 0.7394\n",
      "Epoch 3/20\n",
      "273/273 [==============================] - 98s 339ms/step - loss: 0.3673 - accuracy: 0.8717 - val_loss: 0.4655 - val_accuracy: 0.8312\n",
      "Epoch 4/20\n",
      "273/273 [==============================] - 59s 214ms/step - loss: 0.2997 - accuracy: 0.8943 - val_loss: 0.5912 - val_accuracy: 0.8376\n",
      "Epoch 5/20\n",
      "273/273 [==============================] - 63s 229ms/step - loss: 0.2626 - accuracy: 0.9076 - val_loss: 0.5140 - val_accuracy: 0.8188\n",
      "Epoch 6/20\n",
      "273/273 [==============================] - 65s 237ms/step - loss: 0.2372 - accuracy: 0.9182 - val_loss: 0.2446 - val_accuracy: 0.9183\n",
      "Epoch 7/20\n",
      "273/273 [==============================] - 60s 219ms/step - loss: 0.2169 - accuracy: 0.9226 - val_loss: 0.3201 - val_accuracy: 0.8766\n",
      "Epoch 8/20\n",
      "273/273 [==============================] - 63s 229ms/step - loss: 0.2027 - accuracy: 0.9310 - val_loss: 0.1543 - val_accuracy: 0.9385\n",
      "Epoch 9/20\n",
      "273/273 [==============================] - 65s 239ms/step - loss: 0.1883 - accuracy: 0.9330 - val_loss: 0.1612 - val_accuracy: 0.9413\n",
      "Epoch 10/20\n",
      "273/273 [==============================] - 76s 279ms/step - loss: 0.1568 - accuracy: 0.9446 - val_loss: 0.4439 - val_accuracy: 0.8683\n",
      "Epoch 11/20\n",
      "273/273 [==============================] - 75s 270ms/step - loss: 0.1426 - accuracy: 0.9491 - val_loss: 0.0627 - val_accuracy: 0.9766\n",
      "Epoch 12/20\n",
      "273/273 [==============================] - 62s 224ms/step - loss: 0.1343 - accuracy: 0.9544 - val_loss: 0.2084 - val_accuracy: 0.9064\n",
      "Epoch 13/20\n",
      "273/273 [==============================] - 66s 239ms/step - loss: 0.1317 - accuracy: 0.9552 - val_loss: 0.2254 - val_accuracy: 0.9115\n",
      "Epoch 14/20\n",
      "273/273 [==============================] - 65s 237ms/step - loss: 0.1330 - accuracy: 0.9553 - val_loss: 0.7148 - val_accuracy: 0.7839\n",
      "Epoch 15/20\n",
      "273/273 [==============================] - 66s 239ms/step - loss: 0.1269 - accuracy: 0.9570 - val_loss: 0.1643 - val_accuracy: 0.9404\n",
      "Epoch 16/20\n",
      "273/273 [==============================] - 71s 257ms/step - loss: 0.1065 - accuracy: 0.9630 - val_loss: 0.0738 - val_accuracy: 0.9743\n",
      "Epoch 17/20\n",
      "273/273 [==============================] - 68s 246ms/step - loss: 0.1063 - accuracy: 0.9654 - val_loss: 0.0738 - val_accuracy: 0.9743\n",
      "Epoch 18/20\n",
      "273/273 [==============================] - 64s 234ms/step - loss: 0.1141 - accuracy: 0.9612 - val_loss: 0.1145 - val_accuracy: 0.9647\n",
      "Epoch 19/20\n",
      "273/273 [==============================] - 69s 252ms/step - loss: 0.1022 - accuracy: 0.9647 - val_loss: 0.1125 - val_accuracy: 0.9670\n",
      "Epoch 20/20\n",
      "273/273 [==============================] - 68s 249ms/step - loss: 0.0851 - accuracy: 0.9685 - val_loss: 0.1763 - val_accuracy: 0.9394\n"
     ]
    },
    {
     "data": {
      "text/plain": [
       "<keras.callbacks.History at 0x2763870c670>"
      ]
     },
     "execution_count": 49,
     "metadata": {},
     "output_type": "execute_result"
    }
   ],
   "source": [
    "import tensorflow as tf\n",
    "\n",
    "data_dir = r\"..\\fruits classification\\train\"\n",
    "batch_size = 32\n",
    "image_size = (32, 32)\n",
    "\n",
    "train_ds = tf.keras.preprocessing.image_dataset_from_directory(\n",
    "    data_dir,\n",
    "    batch_size=batch_size,\n",
    "    image_size=image_size,\n",
    "    validation_split=0.2,\n",
    "    subset='training',\n",
    "    seed=123\n",
    ")\n",
    "\n",
    "val_ds = tf.keras.preprocessing.image_dataset_from_directory(\n",
    "    data_dir,\n",
    "    batch_size=batch_size,\n",
    "    image_size=image_size,\n",
    "    validation_split=0.2,\n",
    "    subset='validation',\n",
    "    seed=123\n",
    ")\n",
    "\n",
    "# Preprocess the data\n",
    "def preprocess(x, y):\n",
    "  x = tf.cast(x, tf.float32) / 255.0\n",
    "  y = tf.one_hot(y, 6)\n",
    "  return x, y\n",
    "\n",
    "train_ds = train_ds.map(preprocess)\n",
    "val_ds = val_ds.map(preprocess)\n",
    "\n",
    "# Build the CNN model\n",
    "model = tf.keras.models.Sequential([\n",
    "    tf.keras.layers.Conv2D(32, (3, 3), padding='same', input_shape=(32, 32, 3), activation='relu'),\n",
    "    tf.keras.layers.BatchNormalization(),\n",
    "    tf.keras.layers.Conv2D(32, (3, 3), padding='same', activation='relu'),\n",
    "    tf.keras.layers.BatchNormalization(),\n",
    "    tf.keras.layers.MaxPooling2D(pool_size=(2, 2)),\n",
    "    tf.keras.layers.Dropout(0.3),\n",
    "\n",
    "    tf.keras.layers.Conv2D(64, (3, 3), padding='same', activation='relu'),\n",
    "    tf.keras.layers.BatchNormalization(),\n",
    "    tf.keras.layers.Conv2D(64, (3, 3), padding='same', activation='relu'),\n",
    "    tf.keras.layers.BatchNormalization(),\n",
    "    tf.keras.layers.MaxPooling2D(pool_size=(2, 2)),\n",
    "    tf.keras.layers.Dropout(0.5),\n",
    "\n",
    "    tf.keras.layers.Conv2D(128, (3, 3), padding='same', activation='relu'),\n",
    "    tf.keras.layers.BatchNormalization(),\n",
    "    tf.keras.layers.Conv2D(128, (3, 3), padding='same', activation='relu'),\n",
    "    tf.keras.layers.BatchNormalization(),\n",
    "    tf.keras.layers.MaxPooling2D(pool_size=(2, 2)),\n",
    "    tf.keras.layers.Dropout(0.5),\n",
    "\n",
    "    tf.keras.layers.Flatten(),\n",
    "    tf.keras.layers.Dense(512, activation='relu'),\n",
    "    tf.keras.layers.BatchNormalization(),\n",
    "    tf.keras.layers.Dropout(0.5),\n",
    "    tf.keras.layers.Dense(6, activation='softmax')\n",
    "])\n",
    "\n",
    "# Compile the model\n",
    "model.compile(optimizer='adam', loss='categorical_crossentropy', metrics=['accuracy'])\n",
    "\n",
    "# Train the model\n",
    "model.fit(\n",
    "    train_ds,\n",
    "    epochs=20,\n",
    "    validation_data=val_ds,\n",
    ")\n"
   ]
  },
  {
   "cell_type": "code",
   "execution_count": 50,
   "id": "fe562974-0d1a-4dda-af8c-457a3270dd4f",
   "metadata": {},
   "outputs": [
    {
     "name": "stdout",
     "output_type": "stream",
     "text": [
      "Model: \"sequential_10\"\n",
      "_________________________________________________________________\n",
      " Layer (type)                Output Shape              Param #   \n",
      "=================================================================\n",
      " conv2d_27 (Conv2D)          (None, 32, 32, 32)        896       \n",
      "                                                                 \n",
      " batch_normalization_23 (Bat  (None, 32, 32, 32)       128       \n",
      " chNormalization)                                                \n",
      "                                                                 \n",
      " conv2d_28 (Conv2D)          (None, 32, 32, 32)        9248      \n",
      "                                                                 \n",
      " batch_normalization_24 (Bat  (None, 32, 32, 32)       128       \n",
      " chNormalization)                                                \n",
      "                                                                 \n",
      " max_pooling2d_17 (MaxPoolin  (None, 16, 16, 32)       0         \n",
      " g2D)                                                            \n",
      "                                                                 \n",
      " dropout_8 (Dropout)         (None, 16, 16, 32)        0         \n",
      "                                                                 \n",
      " conv2d_29 (Conv2D)          (None, 16, 16, 64)        18496     \n",
      "                                                                 \n",
      " batch_normalization_25 (Bat  (None, 16, 16, 64)       256       \n",
      " chNormalization)                                                \n",
      "                                                                 \n",
      " conv2d_30 (Conv2D)          (None, 16, 16, 64)        36928     \n",
      "                                                                 \n",
      " batch_normalization_26 (Bat  (None, 16, 16, 64)       256       \n",
      " chNormalization)                                                \n",
      "                                                                 \n",
      " max_pooling2d_18 (MaxPoolin  (None, 8, 8, 64)         0         \n",
      " g2D)                                                            \n",
      "                                                                 \n",
      " dropout_9 (Dropout)         (None, 8, 8, 64)          0         \n",
      "                                                                 \n",
      " conv2d_31 (Conv2D)          (None, 8, 8, 128)         73856     \n",
      "                                                                 \n",
      " batch_normalization_27 (Bat  (None, 8, 8, 128)        512       \n",
      " chNormalization)                                                \n",
      "                                                                 \n",
      " conv2d_32 (Conv2D)          (None, 8, 8, 128)         147584    \n",
      "                                                                 \n",
      " batch_normalization_28 (Bat  (None, 8, 8, 128)        512       \n",
      " chNormalization)                                                \n",
      "                                                                 \n",
      " max_pooling2d_19 (MaxPoolin  (None, 4, 4, 128)        0         \n",
      " g2D)                                                            \n",
      "                                                                 \n",
      " dropout_10 (Dropout)        (None, 4, 4, 128)         0         \n",
      "                                                                 \n",
      " flatten_4 (Flatten)         (None, 2048)              0         \n",
      "                                                                 \n",
      " dense_12 (Dense)            (None, 512)               1049088   \n",
      "                                                                 \n",
      " batch_normalization_29 (Bat  (None, 512)              2048      \n",
      " chNormalization)                                                \n",
      "                                                                 \n",
      " dropout_11 (Dropout)        (None, 512)               0         \n",
      "                                                                 \n",
      " dense_13 (Dense)            (None, 6)                 3078      \n",
      "                                                                 \n",
      "=================================================================\n",
      "Total params: 1,343,014\n",
      "Trainable params: 1,341,094\n",
      "Non-trainable params: 1,920\n",
      "_________________________________________________________________\n"
     ]
    }
   ],
   "source": [
    "# model summary\n",
    "model.summary()"
   ]
  },
  {
   "cell_type": "code",
   "execution_count": 17,
   "id": "9815feed-0a83-4819-a8db-a55252d4cd24",
   "metadata": {},
   "outputs": [
    {
     "data": {
      "image/png": "[encoded data removed]",
      "text/plain": [
       "<Figure size 432x288 with 1 Axes>"
      ]
     },
     "metadata": {
      "needs_background": "light"
     },
     "output_type": "display_data"
    }
   ],
   "source": [
    "import matplotlib.pyplot as plt\n",
    "\n",
    "x = [1,2,3,4,5,6,7,8,9,10,11,12,13,14,15,16,17,18,19,20]\n",
    "y = [69.46,89.02,87.49,90.45,90.56,91.65,92.68,93.14,93.14,94.09,95.00,95.18,95.40,95.30,95.31,96.47,95.98,96.53,97.01,96.79]\n",
    "\n",
    "plt.plot(x,y)\n",
    "plt.xlabel(\"epoch\")\n",
    "plt.ylabel(\"accuracy\")\n",
    "plt.title(\"custom model\")\n",
    "plt.show()"
   ]
  },
  {
   "cell_type": "code",
   "execution_count": 18,
   "id": "bed7d77a-efa9-4e5d-af02-a33c53cf4f41",
   "metadata": {},
   "outputs": [],
   "source": [
    "# testing"
   ]
  },
  {
   "cell_type": "code",
   "execution_count": 6,
   "id": "aff2adac-abee-4662-986b-0a36a1199197",
   "metadata": {},
   "outputs": [
    {
     "name": "stdout",
     "output_type": "stream",
     "text": [
      "Found 2698 files belonging to 6 classes.\n",
      "Using 2429 files for training.\n"
     ]
    }
   ],
   "source": [
    "test_ds = tf.keras.preprocessing.image_dataset_from_directory(\n",
    "    r\"..\\fruits classification\\test\",\n",
    "    batch_size=batch_size,\n",
    "    image_size=image_size,\n",
    "    validation_split=0.1,\n",
    "    subset='training',\n",
    "    seed=123\n",
    ")\n",
    "\n",
    "test_ds = test_ds.map(preprocess)"
   ]
  },
  {
   "cell_type": "code",
   "execution_count": 7,
   "id": "32ffb561-31b2-4f5d-9cff-6ec4913409f4",
   "metadata": {},
   "outputs": [
    {
     "name": "stdout",
     "output_type": "stream",
     "text": [
      "76/76 [==============================] - 39s 447ms/step - loss: 0.1180 - accuracy: 0.9601\n",
      "Test loss: 0.11804208159446716\n",
      "Test accuracy: 0.9600658416748047\n"
     ]
    }
   ],
   "source": [
    "test_loss, test_acc = model.evaluate(test_ds)\n",
    "print('Test loss:', test_loss)\n",
    "print('Test accuracy:', test_acc)"
   ]
  },
  {
   "cell_type": "code",
   "execution_count": 21,
   "id": "1099ebc5-0b93-45b8-8c9d-a7f77a2a2d66",
   "metadata": {},
   "outputs": [],
   "source": [
    "# leNet-5"
   ]
  },
  {
   "cell_type": "code",
   "execution_count": 22,
   "id": "ceb64671-eb44-4a0e-a36d-83897ee74973",
   "metadata": {},
   "outputs": [],
   "source": [
    "# training"
   ]
  },
  {
   "cell_type": "code",
   "execution_count": 13,
   "id": "9e0b6736-31db-44e8-99d3-9abf72412be3",
   "metadata": {},
   "outputs": [
    {
     "name": "stdout",
     "output_type": "stream",
     "text": [
      "Found 10901 files belonging to 6 classes.\n",
      "Using 8721 files for training.\n",
      "Found 10901 files belonging to 6 classes.\n",
      "Using 2180 files for validation.\n",
      "Epoch 1/20\n",
      "273/273 [==============================] - 169s 603ms/step - loss: 1.1463 - accuracy: 0.5567 - val_loss: 0.9777 - val_accuracy: 0.6408\n",
      "Epoch 2/20\n",
      "273/273 [==============================] - 11s 41ms/step - loss: 0.8225 - accuracy: 0.7014 - val_loss: 0.7645 - val_accuracy: 0.7321\n",
      "Epoch 3/20\n",
      "273/273 [==============================] - 17s 63ms/step - loss: 0.6948 - accuracy: 0.7538 - val_loss: 0.6168 - val_accuracy: 0.7817\n",
      "Epoch 4/20\n",
      "273/273 [==============================] - 15s 55ms/step - loss: 0.5882 - accuracy: 0.7964 - val_loss: 0.6055 - val_accuracy: 0.7881\n",
      "Epoch 5/20\n",
      "273/273 [==============================] - 15s 55ms/step - loss: 0.5207 - accuracy: 0.8238 - val_loss: 0.4972 - val_accuracy: 0.8243\n",
      "Epoch 6/20\n",
      "273/273 [==============================] - 20s 72ms/step - loss: 0.4742 - accuracy: 0.8369 - val_loss: 0.4880 - val_accuracy: 0.8367\n",
      "Epoch 7/20\n",
      "273/273 [==============================] - 14s 52ms/step - loss: 0.4376 - accuracy: 0.8469 - val_loss: 0.4425 - val_accuracy: 0.8417\n",
      "Epoch 8/20\n",
      "273/273 [==============================] - 20s 73ms/step - loss: 0.4079 - accuracy: 0.8571 - val_loss: 0.4086 - val_accuracy: 0.8546\n",
      "Epoch 9/20\n",
      "273/273 [==============================] - 17s 60ms/step - loss: 0.3925 - accuracy: 0.8644 - val_loss: 0.4002 - val_accuracy: 0.8555\n",
      "Epoch 10/20\n",
      "273/273 [==============================] - 18s 64ms/step - loss: 0.3742 - accuracy: 0.8688 - val_loss: 0.3890 - val_accuracy: 0.8596\n",
      "Epoch 11/20\n",
      "273/273 [==============================] - 19s 69ms/step - loss: 0.3743 - accuracy: 0.8677 - val_loss: 0.3918 - val_accuracy: 0.8555\n",
      "Epoch 12/20\n",
      "273/273 [==============================] - 16s 57ms/step - loss: 0.3426 - accuracy: 0.8795 - val_loss: 0.3686 - val_accuracy: 0.8656\n",
      "Epoch 13/20\n",
      "273/273 [==============================] - 21s 75ms/step - loss: 0.3362 - accuracy: 0.8851 - val_loss: 0.3853 - val_accuracy: 0.8628\n",
      "Epoch 14/20\n",
      "273/273 [==============================] - 16s 57ms/step - loss: 0.3280 - accuracy: 0.8842 - val_loss: 0.3561 - val_accuracy: 0.8674\n",
      "Epoch 15/20\n",
      "273/273 [==============================] - 21s 76ms/step - loss: 0.3092 - accuracy: 0.8924 - val_loss: 0.3529 - val_accuracy: 0.8679\n",
      "Epoch 16/20\n",
      "273/273 [==============================] - 16s 56ms/step - loss: 0.2980 - accuracy: 0.8982 - val_loss: 0.3229 - val_accuracy: 0.8807\n",
      "Epoch 17/20\n",
      "273/273 [==============================] - 21s 76ms/step - loss: 0.3018 - accuracy: 0.8945 - val_loss: 0.3368 - val_accuracy: 0.8798\n",
      "Epoch 18/20\n",
      "273/273 [==============================] - 16s 57ms/step - loss: 0.2833 - accuracy: 0.9000 - val_loss: 0.3125 - val_accuracy: 0.8849\n",
      "Epoch 19/20\n",
      "273/273 [==============================] - 21s 76ms/step - loss: 0.2739 - accuracy: 0.9045 - val_loss: 0.3451 - val_accuracy: 0.8761\n",
      "Epoch 20/20\n",
      "273/273 [==============================] - 16s 58ms/step - loss: 0.2672 - accuracy: 0.9071 - val_loss: 0.3614 - val_accuracy: 0.8775\n"
     ]
    },
    {
     "data": {
      "text/plain": [
       "<keras.callbacks.History at 0x20d5373a9d0>"
      ]
     },
     "execution_count": 13,
     "metadata": {},
     "output_type": "execute_result"
    }
   ],
   "source": [
    "import tensorflow as tf\n",
    "from tensorflow.keras import models, layers\n",
    "from tensorflow.keras.models import Sequential\n",
    "from tensorflow.keras.layers import Conv2D, MaxPool2D, AveragePooling2D, Flatten, Dropout, Dense\n",
    "\n",
    "data_dir = r\"..\\fruits classification\\train\"\n",
    "batch_size = 32\n",
    "image_size = (32, 32)\n",
    "\n",
    "train_ds = tf.keras.preprocessing.image_dataset_from_directory(\n",
    "    data_dir,\n",
    "    batch_size=batch_size,\n",
    "    image_size=image_size,\n",
    "    validation_split=0.2,\n",
    "    subset='training',\n",
    "    seed=123\n",
    ")\n",
    "\n",
    "val_ds = tf.keras.preprocessing.image_dataset_from_directory(\n",
    "    data_dir,\n",
    "    batch_size=batch_size,\n",
    "    image_size=image_size,\n",
    "    validation_split=0.2,\n",
    "    subset='validation',\n",
    "    seed=123\n",
    ")\n",
    "\n",
    "# Preprocess the data\n",
    "def preprocess(x, y):\n",
    "  x = tf.cast(x, tf.float32) / 255.0\n",
    "  y = tf.one_hot(y, 6)\n",
    "  return x, y\n",
    "\n",
    "train_ds = train_ds.map(preprocess)\n",
    "val_ds = val_ds.map(preprocess)\n",
    "\n",
    "# Instantiate an empty sequential model\n",
    "model = Sequential()\n",
    "# C1 Convolutional Layer\n",
    "model.add(Conv2D(filters = 6, kernel_size = 5, strides = 1, activation = 'tanh', input_shape = (32,32,3), padding = 'same'))\n",
    "  \n",
    "# S2 Pooling Layer\n",
    "model.add(AveragePooling2D(pool_size = 2, strides = 2, padding = 'valid'))\n",
    "  \n",
    "# C3 Convolutional Layer\n",
    "model.add(Conv2D(filters = 6, kernel_size = 5, strides = 1,activation = 'tanh',padding = 'valid'))\n",
    " \n",
    "# S4 Pooling Layer\n",
    "model.add(AveragePooling2D(pool_size = 2, strides = 2, padding = 'valid'))\n",
    "  \n",
    "# C5 Convolutional Layer\n",
    "model.add(Conv2D(filters = 12, kernel_size = 5, strides = 1,activation = 'tanh',padding = 'valid'))\n",
    "  \n",
    "# Flatten the CNN output to feed it with fully connected layers\n",
    "model.add(Flatten())\n",
    "  \n",
    "# FC6 Fully Connected Layer\n",
    "model.add(Dense(units = 20, activation = 'tanh'))\n",
    "  \n",
    "# FC7 Output layer with softmax activation\n",
    "model.add(Dense(units = 6, activation = 'softmax'))\n",
    "\n",
    "# Compile the model\n",
    "model.compile(optimizer='adam', loss='categorical_crossentropy', metrics=['accuracy'])\n",
    "\n",
    "# Train the model\n",
    "model.fit(\n",
    "    train_ds,\n",
    "    epochs=20,\n",
    "    validation_data=val_ds,\n",
    ")\n"
   ]
  },
  {
   "cell_type": "code",
   "execution_count": 19,
   "id": "eb0e2e62-7f48-4e38-9918-febe44a8caa2",
   "metadata": {},
   "outputs": [
    {
     "data": {
      "image/png": "[encoded data removed]",
      "text/plain": [
       "<Figure size 432x288 with 1 Axes>"
      ]
     },
     "metadata": {
      "needs_background": "light"
     },
     "output_type": "display_data"
    }
   ],
   "source": [
    "import matplotlib.pyplot as plt\n",
    "\n",
    "x = [1,2,3,4,5,6,7,8,9,10,11,12,13,14,15,16,17,18,19,20]\n",
    "y = [55.67,70.14,75.38,79.64,82.38,83.69,84.69,85.71,86.44,86.88,86.77,87.95,88.51,88.42,89.24,89.82,89.45,90.00,90.45,90.71]\n",
    "\n",
    "plt.plot(x,y)\n",
    "plt.xlabel(\"epoch\")\n",
    "plt.ylabel(\"accuracy\")\n",
    "plt.title(\"LeNet-5\")\n",
    "plt.show()"
   ]
  },
  {
   "cell_type": "code",
   "execution_count": 20,
   "id": "2de27935-a8c2-480f-979c-dec1bbf1b6ed",
   "metadata": {},
   "outputs": [],
   "source": [
    "# testing"
   ]
  },
  {
   "cell_type": "code",
   "execution_count": 14,
   "id": "f6aeeed7-b78c-4fa7-8d8f-c157a0d43066",
   "metadata": {},
   "outputs": [
    {
     "name": "stdout",
     "output_type": "stream",
     "text": [
      "Found 2698 files belonging to 6 classes.\n",
      "Using 2429 files for training.\n"
     ]
    }
   ],
   "source": [
    "test_ds = tf.keras.preprocessing.image_dataset_from_directory(\n",
    "    r\"..\\fruits classification\\test\",\n",
    "    batch_size=batch_size,\n",
    "    image_size=image_size,\n",
    "    validation_split=0.1,\n",
    "    subset='training',\n",
    "    seed=123\n",
    ")\n",
    "\n",
    "test_ds = test_ds.map(preprocess)"
   ]
  },
  {
   "cell_type": "code",
   "execution_count": 15,
   "id": "85445d3f-7cf4-4cbc-96be-f677fc5efa5c",
   "metadata": {},
   "outputs": [
    {
     "name": "stdout",
     "output_type": "stream",
     "text": [
      "76/76 [==============================] - 37s 432ms/step - loss: 0.3469 - accuracy: 0.8761\n",
      "Test loss: 0.34685394167900085\n",
      "Test accuracy: 0.8760806918144226\n"
     ]
    }
   ],
   "source": [
    "test_loss, test_acc = model.evaluate(test_ds)\n",
    "print('Test loss:', test_loss)\n",
    "print('Test accuracy:', test_acc)"
   ]
  },
  {
   "cell_type": "code",
   "execution_count": 23,
   "id": "0d8b61d1-465e-4a18-a961-b3a36b65749c",
   "metadata": {},
   "outputs": [],
   "source": [
    "# AlexNet"
   ]
  },
  {
   "cell_type": "code",
   "execution_count": 24,
   "id": "9cec8619-4e04-43be-9b4e-91e0e2facfa8",
   "metadata": {},
   "outputs": [],
   "source": [
    "# training"
   ]
  },
  {
   "cell_type": "code",
   "execution_count": 11,
   "id": "382b095d-ae41-41f5-85e4-473ebdf81a17",
   "metadata": {},
   "outputs": [
    {
     "name": "stdout",
     "output_type": "stream",
     "text": [
      "Found 10901 files belonging to 6 classes.\n",
      "Using 8721 files for training.\n",
      "Found 10901 files belonging to 6 classes.\n",
      "Using 2180 files for validation.\n",
      "Epoch 1/20\n",
      "273/273 [==============================] - 115s 406ms/step - loss: 1.5366 - accuracy: 0.6625 - val_loss: 2.1480 - val_accuracy: 0.4353\n",
      "Epoch 2/20\n",
      "273/273 [==============================] - 68s 246ms/step - loss: 0.7329 - accuracy: 0.7726 - val_loss: 2.1247 - val_accuracy: 0.4679\n",
      "Epoch 3/20\n",
      "273/273 [==============================] - 73s 267ms/step - loss: 0.6074 - accuracy: 0.8166 - val_loss: 0.6420 - val_accuracy: 0.8064\n",
      "Epoch 4/20\n",
      "273/273 [==============================] - 73s 266ms/step - loss: 0.5352 - accuracy: 0.8367 - val_loss: 0.9962 - val_accuracy: 0.7229\n",
      "Epoch 5/20\n",
      "273/273 [==============================] - 72s 263ms/step - loss: 0.5047 - accuracy: 0.8420 - val_loss: 1.7508 - val_accuracy: 0.5908\n",
      "Epoch 6/20\n",
      "273/273 [==============================] - 74s 268ms/step - loss: 0.4645 - accuracy: 0.8642 - val_loss: 0.5014 - val_accuracy: 0.8257\n",
      "Epoch 7/20\n",
      "273/273 [==============================] - 82s 299ms/step - loss: 0.3926 - accuracy: 0.8820 - val_loss: 0.9968 - val_accuracy: 0.7358\n",
      "Epoch 8/20\n",
      "273/273 [==============================] - 81s 296ms/step - loss: 0.3666 - accuracy: 0.8897 - val_loss: 0.3619 - val_accuracy: 0.8826\n",
      "Epoch 9/20\n",
      "273/273 [==============================] - 74s 268ms/step - loss: 0.3795 - accuracy: 0.8849 - val_loss: 0.4880 - val_accuracy: 0.8353\n",
      "Epoch 10/20\n",
      "273/273 [==============================] - 81s 294ms/step - loss: 0.4585 - accuracy: 0.8702 - val_loss: 1.7029 - val_accuracy: 0.6628\n",
      "Epoch 11/20\n",
      "273/273 [==============================] - 81s 293ms/step - loss: 0.3606 - accuracy: 0.8928 - val_loss: 0.8057 - val_accuracy: 0.7688\n",
      "Epoch 12/20\n",
      "273/273 [==============================] - 80s 290ms/step - loss: 0.2710 - accuracy: 0.9173 - val_loss: 0.3039 - val_accuracy: 0.9028\n",
      "Epoch 13/20\n",
      "273/273 [==============================] - 73s 265ms/step - loss: 0.3166 - accuracy: 0.9111 - val_loss: 0.8951 - val_accuracy: 0.7573\n",
      "Epoch 14/20\n",
      "273/273 [==============================] - 81s 294ms/step - loss: 0.3632 - accuracy: 0.9036 - val_loss: 0.3283 - val_accuracy: 0.8977\n",
      "Epoch 15/20\n",
      "273/273 [==============================] - 81s 295ms/step - loss: 0.2333 - accuracy: 0.9272 - val_loss: 0.4238 - val_accuracy: 0.8583\n",
      "Epoch 16/20\n",
      "273/273 [==============================] - 73s 265ms/step - loss: 0.6102 - accuracy: 0.8607 - val_loss: 1.8570 - val_accuracy: 0.4959\n",
      "Epoch 17/20\n",
      "273/273 [==============================] - 79s 289ms/step - loss: 0.3227 - accuracy: 0.9047 - val_loss: 0.5077 - val_accuracy: 0.8385\n",
      "Epoch 18/20\n",
      "273/273 [==============================] - 80s 291ms/step - loss: 0.3066 - accuracy: 0.9104 - val_loss: 3.5490 - val_accuracy: 0.4784\n",
      "Epoch 19/20\n",
      "273/273 [==============================] - 80s 290ms/step - loss: 0.2518 - accuracy: 0.9247 - val_loss: 0.5586 - val_accuracy: 0.8417\n",
      "Epoch 20/20\n",
      "273/273 [==============================] - 72s 263ms/step - loss: 0.2089 - accuracy: 0.9341 - val_loss: 0.4682 - val_accuracy: 0.8642\n"
     ]
    },
    {
     "data": {
      "text/plain": [
       "<keras.callbacks.History at 0x2763a0bb430>"
      ]
     },
     "execution_count": 11,
     "metadata": {},
     "output_type": "execute_result"
    }
   ],
   "source": [
    "import tensorflow as tf\n",
    "from tensorflow.keras import models, layers\n",
    "from tensorflow.keras.models import Sequential\n",
    "from tensorflow.keras.layers import Conv2D, MaxPool2D, AveragePooling2D, Flatten, Dropout, Dense, BatchNormalization\n",
    "\n",
    "data_dir = r\"..\\fruits classification\\train\"\n",
    "batch_size = 32\n",
    "image_size = (32, 32)\n",
    "\n",
    "train_ds = tf.keras.preprocessing.image_dataset_from_directory(\n",
    "    data_dir,\n",
    "    batch_size=batch_size,\n",
    "    image_size=image_size,\n",
    "    validation_split=0.2,\n",
    "    subset='training',\n",
    "    seed=123\n",
    ")\n",
    "\n",
    "val_ds = tf.keras.preprocessing.image_dataset_from_directory(\n",
    "    data_dir,\n",
    "    batch_size=batch_size,\n",
    "    image_size=image_size,\n",
    "    validation_split=0.2,\n",
    "    subset='validation',\n",
    "    seed=123\n",
    ")\n",
    "\n",
    "# Preprocess the data\n",
    "def preprocess(x, y):\n",
    "  x = tf.cast(x, tf.float32) / 255.0\n",
    "  y = tf.one_hot(y, 6)\n",
    "  return x, y\n",
    "\n",
    "train_ds = train_ds.map(preprocess)\n",
    "val_ds = val_ds.map(preprocess)\n",
    "\n",
    "# Instantiate an empty sequential model\n",
    "model = Sequential()\n",
    "# 1st layer (conv + pool + batchnorm)\n",
    "model.add(Conv2D(filters= 96, kernel_size= (11,11), strides=(4,4), activation = 'relu', padding='valid', input_shape = (32,32,3))) \n",
    "model.add(MaxPool2D(pool_size=(2,2), strides=(1,1)))\n",
    "model.add(BatchNormalization())\n",
    "    \n",
    "# 2nd layer (conv + pool + batchnorm)\n",
    "model.add(Conv2D(filters=96, kernel_size=(5,5), strides=(1,1), activation = 'relu', padding='same')) \n",
    "model.add(MaxPool2D(pool_size=(2,2), strides=(1,1)))\n",
    "model.add(BatchNormalization())\n",
    "            \n",
    "# layer 3 (conv + batchnorm)      <--- note that the authors did not add a POOL layer here\n",
    "model.add(Conv2D(filters=396, kernel_size=(3,3), strides=(1,1), activation = 'relu', padding='same')) \n",
    "model.add(BatchNormalization())\n",
    "        \n",
    "# layer 4 (conv + batchnorm)     <--- similar to layer 4\n",
    "model.add(Conv2D(filters=396, kernel_size=(3,3), strides=(1,1), activation = 'relu', padding='same')) \n",
    "model.add(BatchNormalization())\n",
    "           \n",
    "# layer 5 (conv + batchnorm) \n",
    "model.add(Conv2D(filters=256, kernel_size=(3,3), strides=(1,1), activation = 'relu', padding='same')) \n",
    "model.add(BatchNormalization())\n",
    "model.add(MaxPool2D(pool_size=(2,2), strides=(1,1)))\n",
    "  \n",
    "# Flatten the CNN output to feed it with fully connected layers\n",
    "model.add(Flatten())\n",
    "  \n",
    "# layer 6 (Dense layer + dropout) \n",
    "model.add(Dense(units = 2096, activation = 'relu'))\n",
    "model.add(Dropout(0.5))\n",
    "  \n",
    "# layer 7 (Dense layers)\n",
    "model.add(Dense(units = 1096, activation = 'relu'))\n",
    "model.add(Dropout(0.5))\n",
    "                          \n",
    "# layer 8 (softmax output layer)\n",
    "model.add(Dense(units = 6, activation = 'softmax'))\n",
    "\n",
    "# Compile the model\n",
    "model.compile(optimizer='adam', loss='categorical_crossentropy', metrics=['accuracy'])\n",
    "\n",
    "# Train the model\n",
    "model.fit(\n",
    "    train_ds,\n",
    "    epochs=20,\n",
    "    validation_data=val_ds,\n",
    ")"
   ]
  },
  {
   "cell_type": "code",
   "execution_count": 25,
   "id": "abe4a7f8-5d5f-473c-93ae-c809b4580842",
   "metadata": {},
   "outputs": [
    {
     "data": {
      "image/png": "[encoded data removed]",
      "text/plain": [
       "<Figure size 432x288 with 1 Axes>"
      ]
     },
     "metadata": {
      "needs_background": "light"
     },
     "output_type": "display_data"
    }
   ],
   "source": [
    "import matplotlib.pyplot as plt\n",
    "\n",
    "x = [1,2,3,4,5,6,7,8,9,10,11,12,13,14,15,16,17,18,19,20]\n",
    "y = [66.25,77.26,81.66,83.67,84.20,86.42,88.20,88.97,88.49,87.02,89.28,91.73,91.11,90.36,92.72,86.07,90.47,91.04,92.47,93.41]\n",
    "\n",
    "plt.plot(x,y)\n",
    "plt.xlabel(\"epoch\")\n",
    "plt.ylabel(\"accuracy\")\n",
    "plt.title(\"AlexNet\")\n",
    "plt.show()"
   ]
  },
  {
   "cell_type": "code",
   "execution_count": 26,
   "id": "8331cff7-0658-458b-8455-f847f9d29547",
   "metadata": {},
   "outputs": [],
   "source": [
    "# testing"
   ]
  },
  {
   "cell_type": "code",
   "execution_count": 12,
   "id": "b2e674ff-e8ba-403c-8164-acaa2644c291",
   "metadata": {},
   "outputs": [
    {
     "name": "stdout",
     "output_type": "stream",
     "text": [
      "Found 2698 files belonging to 6 classes.\n",
      "Using 2429 files for training.\n"
     ]
    }
   ],
   "source": [
    "test_ds = tf.keras.preprocessing.image_dataset_from_directory(\n",
    "    r\"..\\fruits classification\\test\",\n",
    "    batch_size=batch_size,\n",
    "    image_size=image_size,\n",
    "    validation_split=0.1,\n",
    "    subset='training',\n",
    "    seed=123\n",
    ")\n",
    "\n",
    "test_ds = test_ds.map(preprocess)"
   ]
  },
  {
   "cell_type": "code",
   "execution_count": 13,
   "id": "e2f51604-4317-491c-9a91-8c232453b3e6",
   "metadata": {},
   "outputs": [
    {
     "name": "stdout",
     "output_type": "stream",
     "text": [
      "76/76 [==============================] - 52s 627ms/step - loss: 0.4903 - accuracy: 0.8596\n",
      "Test loss: 0.4903201162815094\n",
      "Test accuracy: 0.8596130013465881\n"
     ]
    }
   ],
   "source": [
    "test_loss, test_acc = model.evaluate(test_ds)\n",
    "print('Test loss:', test_loss)\n",
    "print('Test accuracy:', test_acc)"
   ]
  },
  {
   "cell_type": "code",
   "execution_count": 33,
   "id": "e9e40f5a-fbd0-4c95-b82c-3b077710672c",
   "metadata": {},
   "outputs": [],
   "source": [
    "# comparision between training data of three models"
   ]
  },
  {
   "cell_type": "code",
   "execution_count": 32,
   "id": "aa4d919a-2408-4355-bc4e-510a5a0b8bb9",
   "metadata": {},
   "outputs": [
    {
     "data": {
      "image/png": "[encoded data removed]",
      "text/plain": [
       "<Figure size 432x288 with 1 Axes>"
      ]
     },
     "metadata": {
      "needs_background": "light"
     },
     "output_type": "display_data"
    }
   ],
   "source": [
    "import matplotlib.pyplot as plt\n",
    "# custom model\n",
    "xc = [1,2,3,4,5,6,7,8,9,10,11,12,13,14,15,16,17,18,19,20]\n",
    "yc = [69.46,89.02,87.49,90.45,90.56,91.65,92.68,93.14,93.14,94.09,95.00,95.18,95.40,95.30,95.31,96.47,95.98,96.53,97.01,96.79]\n",
    "# LeNet-5\n",
    "xl = [1,2,3,4,5,6,7,8,9,10,11,12,13,14,15,16,17,18,19,20]\n",
    "yl = [55.67,70.14,75.38,79.64,82.38,83.69,84.69,85.71,86.44,86.88,86.77,87.95,88.51,88.42,89.24,89.82,89.45,90.00,90.45,90.71]\n",
    "# AlexNet\n",
    "xa = [1,2,3,4,5,6,7,8,9,10,11,12,13,14,15,16,17,18,19,20]\n",
    "ya = [66.25,77.26,81.66,83.67,84.20,86.42,88.20,88.97,88.49,87.02,89.28,91.73,91.11,90.36,92.72,86.07,90.47,91.04,92.47,93.41]\n",
    "\n",
    "plt.title(\"Training Data Comparision - Custom Model VS LeNet-5 VS AlexNet\")\n",
    "plt.xlabel(\"epoch\")\n",
    "plt.ylabel(\"accuracy\")\n",
    "\n",
    "plt.plot(xc,yc,label=\"Custom Model\")\n",
    "plt.plot(xl,yl,label=\"LeNet-5\")\n",
    "plt.plot(xa,ya,label=\"AlexNet\")\n",
    "plt.legend()\n",
    "plt.show()"
   ]
  },
  {
   "cell_type": "code",
   "execution_count": 42,
   "id": "e2d5b732-d112-4524-8c00-b1aace166f64",
   "metadata": {},
   "outputs": [
    {
     "data": {
      "image/png": "[encoded data removed]",
      "text/plain": [
       "<Figure size 576x288 with 1 Axes>"
      ]
     },
     "metadata": {
      "needs_background": "light"
     },
     "output_type": "display_data"
    }
   ],
   "source": [
    "import numpy as np\n",
    "import matplotlib.pyplot as plt\n",
    " \n",
    "data = {'Custom Model':96.00, 'LeNet-5':87.60, 'AlexNet':85.96}\n",
    "model_names = list(data.keys())\n",
    "training_acc = list(data.values())\n",
    "  \n",
    "fig = plt.figure(figsize = (8, 4))\n",
    " \n",
    "# creating the bar plot\n",
    "plt.bar(model_names, training_acc,width = 0.3)\n",
    " \n",
    "plt.xlabel(\"Model Names\")\n",
    "plt.ylabel(\"Testing Accuracy\")\n",
    "plt.title(\"Testing Data Comparision - Custom Model VS LeNet-5 VS AlexNet\")\n",
    "\n",
    "plt.show()"
   ]
  },
  {
   "cell_type": "code",
   "execution_count": 43,
   "id": "e5cc125b-c5a3-4fc4-8b7d-4cb15a424399",
   "metadata": {},
   "outputs": [],
   "source": [
    "# checking #"
   ]
  },
  {
   "cell_type": "code",
   "execution_count": 47,
   "id": "77c3e25d-f958-4237-b4e6-5e51f36191fa",
   "metadata": {},
   "outputs": [],
   "source": [
    "from PIL import Image\n",
    "import numpy as np\n",
    "\n",
    "# Read the image file\n",
    "image = Image.open(r\"..\\new_images\\rotated_by_15_Screen Shot 2018-06-07 at 2.16.18 PM.png\")\n",
    "\n",
    "# Preprocess the image\n",
    "image = image.resize((32, 32))\n",
    "image = np.array(image)\n",
    "image = image / 255.0\n",
    "image = image.astype(np.float32)\n",
    "image = np.expand_dims(image, axis=0)"
   ]
  },
  {
   "cell_type": "code",
   "execution_count": 48,
   "id": "2e9dacf9-efec-4611-82d6-40a34d96f6a0",
   "metadata": {},
   "outputs": [
    {
     "name": "stdout",
     "output_type": "stream",
     "text": [
      "1/1 [==============================] - 1s 1s/step\n",
      "rotten_apple\n"
     ]
    }
   ],
   "source": [
    "prediction = model.predict(image)\n",
    "class_names = ['fresh_apple', 'fresh_banana', 'fresh_orange', 'rotten_apple', 'rotten_banana', 'rotten_orange']\n",
    "\n",
    "predicted_class = class_names[np.argmax(prediction)]\n",
    "print(predicted_class)"
   ]
  },
  {
   "cell_type": "code",
   "execution_count": null,
   "id": "c9f3e502-4ee7-46a3-8d46-2c6c9ddcc836",
   "metadata": {},
   "outputs": [],
   "source": []
  }
 ],
 "metadata": {
  "kernelspec": {
   "display_name": "Python 3 (ipykernel)",
   "language": "python",
   "name": "python3"
  },
  "language_info": {
   "codemirror_mode": {
    "name": "ipython",
    "version": 3
   },
   "file_extension": ".py",
   "mimetype": "text/x-python",
   "name": "python",
   "nbconvert_exporter": "python",
   "pygments_lexer": "ipython3",
   "version": "3.8.3"
  }
 },
 "nbformat": 4,
 "nbformat_minor": 5
}
